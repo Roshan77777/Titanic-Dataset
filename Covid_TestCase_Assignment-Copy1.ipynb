{
 "cells": [
  {
   "cell_type": "code",
   "execution_count": 849,
   "id": "df10e406",
   "metadata": {},
   "outputs": [],
   "source": [
    "#import numpy as np\n",
    "#import pandas as pd\n",
    "#import matplotlib.pyplot as plt\n",
    "#%matplotlib inline\n",
    "import numpy as np \n",
    "import pandas as pd\n",
    "import matplotlib.pyplot as plt\n",
    "from sklearn.model_selection import train_test_split\n",
    "import seaborn as sns\n",
    "from sklearn import metrics\n",
    "import warnings\n",
    "warnings.filterwarnings('ignore')\n",
    "%matplotlib inline"
   ]
  },
  {
   "cell_type": "code",
   "execution_count": 850,
   "id": "3d927439",
   "metadata": {},
   "outputs": [],
   "source": [
    "#import dataset\n",
    "data = pd.read_csv(\"C:/Users/latha/Documents/AI/Datasets/ongoing_outbreaks.csv\")"
   ]
  },
  {
   "cell_type": "code",
   "execution_count": 851,
   "id": "d6de3380",
   "metadata": {},
   "outputs": [
    {
     "data": {
      "text/html": [
       "<div>\n",
       "<style scoped>\n",
       "    .dataframe tbody tr th:only-of-type {\n",
       "        vertical-align: middle;\n",
       "    }\n",
       "\n",
       "    .dataframe tbody tr th {\n",
       "        vertical-align: top;\n",
       "    }\n",
       "\n",
       "    .dataframe thead th {\n",
       "        text-align: right;\n",
       "    }\n",
       "</style>\n",
       "<table border=\"1\" class=\"dataframe\">\n",
       "  <thead>\n",
       "    <tr style=\"text-align: right;\">\n",
       "      <th></th>\n",
       "      <th>date</th>\n",
       "      <th>outbreak_group</th>\n",
       "      <th>outbreak_subgroup</th>\n",
       "      <th>number_ongoing_outbreaks</th>\n",
       "    </tr>\n",
       "  </thead>\n",
       "  <tbody>\n",
       "    <tr>\n",
       "      <th>0</th>\n",
       "      <td>2020-11-01</td>\n",
       "      <td>1 Congregate Care</td>\n",
       "      <td>1 Long-Term Care Homes</td>\n",
       "      <td>73</td>\n",
       "    </tr>\n",
       "    <tr>\n",
       "      <th>1</th>\n",
       "      <td>2020-11-01</td>\n",
       "      <td>1 Congregate Care</td>\n",
       "      <td>2 Hospitals</td>\n",
       "      <td>21</td>\n",
       "    </tr>\n",
       "    <tr>\n",
       "      <th>2</th>\n",
       "      <td>2020-11-01</td>\n",
       "      <td>1 Congregate Care</td>\n",
       "      <td>3 Retirement Homes</td>\n",
       "      <td>51</td>\n",
       "    </tr>\n",
       "    <tr>\n",
       "      <th>3</th>\n",
       "      <td>2020-11-01</td>\n",
       "      <td>2 Congregate Living</td>\n",
       "      <td>18 Short-term accommodations</td>\n",
       "      <td>2</td>\n",
       "    </tr>\n",
       "    <tr>\n",
       "      <th>4</th>\n",
       "      <td>2020-11-01</td>\n",
       "      <td>2 Congregate Living</td>\n",
       "      <td>4 Group Home/Supportive Housing</td>\n",
       "      <td>31</td>\n",
       "    </tr>\n",
       "    <tr>\n",
       "      <th>...</th>\n",
       "      <td>...</td>\n",
       "      <td>...</td>\n",
       "      <td>...</td>\n",
       "      <td>...</td>\n",
       "    </tr>\n",
       "    <tr>\n",
       "      <th>8896</th>\n",
       "      <td>2021-12-05</td>\n",
       "      <td>5 Recreational</td>\n",
       "      <td>17 Bar/restaurant/nightclub</td>\n",
       "      <td>12</td>\n",
       "    </tr>\n",
       "    <tr>\n",
       "      <th>8897</th>\n",
       "      <td>2021-12-05</td>\n",
       "      <td>5 Recreational</td>\n",
       "      <td>19 Recreational fitness</td>\n",
       "      <td>14</td>\n",
       "    </tr>\n",
       "    <tr>\n",
       "      <th>8898</th>\n",
       "      <td>2021-12-05</td>\n",
       "      <td>5 Recreational</td>\n",
       "      <td>21 Other recreation</td>\n",
       "      <td>10</td>\n",
       "    </tr>\n",
       "    <tr>\n",
       "      <th>8899</th>\n",
       "      <td>2021-12-05</td>\n",
       "      <td>6 Other/Unknown</td>\n",
       "      <td>23 Other</td>\n",
       "      <td>8</td>\n",
       "    </tr>\n",
       "    <tr>\n",
       "      <th>8900</th>\n",
       "      <td>2021-12-05</td>\n",
       "      <td>6 Other/Unknown</td>\n",
       "      <td>24 Unknown</td>\n",
       "      <td>38</td>\n",
       "    </tr>\n",
       "  </tbody>\n",
       "</table>\n",
       "<p>8901 rows × 4 columns</p>\n",
       "</div>"
      ],
      "text/plain": [
       "            date       outbreak_group                outbreak_subgroup  \\\n",
       "0     2020-11-01    1 Congregate Care           1 Long-Term Care Homes   \n",
       "1     2020-11-01    1 Congregate Care                      2 Hospitals   \n",
       "2     2020-11-01    1 Congregate Care               3 Retirement Homes   \n",
       "3     2020-11-01  2 Congregate Living     18 Short-term accommodations   \n",
       "4     2020-11-01  2 Congregate Living  4 Group Home/Supportive Housing   \n",
       "...          ...                  ...                              ...   \n",
       "8896  2021-12-05       5 Recreational      17 Bar/restaurant/nightclub   \n",
       "8897  2021-12-05       5 Recreational          19 Recreational fitness   \n",
       "8898  2021-12-05       5 Recreational              21 Other recreation   \n",
       "8899  2021-12-05      6 Other/Unknown                         23 Other   \n",
       "8900  2021-12-05      6 Other/Unknown                       24 Unknown   \n",
       "\n",
       "      number_ongoing_outbreaks  \n",
       "0                           73  \n",
       "1                           21  \n",
       "2                           51  \n",
       "3                            2  \n",
       "4                           31  \n",
       "...                        ...  \n",
       "8896                        12  \n",
       "8897                        14  \n",
       "8898                        10  \n",
       "8899                         8  \n",
       "8900                        38  \n",
       "\n",
       "[8901 rows x 4 columns]"
      ]
     },
     "execution_count": 851,
     "metadata": {},
     "output_type": "execute_result"
    }
   ],
   "source": [
    "data"
   ]
  },
  {
   "cell_type": "code",
   "execution_count": 852,
   "id": "a565e74b",
   "metadata": {},
   "outputs": [],
   "source": [
    "#GROUP\n",
    "outbreak_group = data.iloc[:,1].values "
   ]
  },
  {
   "cell_type": "code",
   "execution_count": 853,
   "id": "37e86378",
   "metadata": {},
   "outputs": [
    {
     "name": "stdout",
     "output_type": "stream",
     "text": [
      "['1 Congregate Care' '1 Congregate Care' '1 Congregate Care' ...\n",
      " '5 Recreational' '6 Other/Unknown' '6 Other/Unknown']\n"
     ]
    }
   ],
   "source": [
    "print(outbreak_group)"
   ]
  },
  {
   "cell_type": "code",
   "execution_count": 854,
   "id": "12cf7422",
   "metadata": {},
   "outputs": [],
   "source": [
    "#SUBGROUP\n",
    "outbreak_subgroup = data.iloc[:,2].values "
   ]
  },
  {
   "cell_type": "code",
   "execution_count": 855,
   "id": "d3049536",
   "metadata": {},
   "outputs": [
    {
     "data": {
      "text/plain": [
       "array(['1 Long-Term Care Homes', '2 Hospitals', '3 Retirement Homes', ...,\n",
       "       '21 Other recreation', '23 Other', '24 Unknown'], dtype=object)"
      ]
     },
     "execution_count": 855,
     "metadata": {},
     "output_type": "execute_result"
    }
   ],
   "source": [
    "outbreak_subgroup"
   ]
  },
  {
   "cell_type": "code",
   "execution_count": 856,
   "id": "f702d745",
   "metadata": {},
   "outputs": [],
   "source": [
    "#GROUP1\n",
    "GROUP1=data[data[\"outbreak_group\"] == '1 Congregate Care']"
   ]
  },
  {
   "cell_type": "code",
   "execution_count": 857,
   "id": "344172a4",
   "metadata": {},
   "outputs": [
    {
     "data": {
      "text/html": [
       "<div>\n",
       "<style scoped>\n",
       "    .dataframe tbody tr th:only-of-type {\n",
       "        vertical-align: middle;\n",
       "    }\n",
       "\n",
       "    .dataframe tbody tr th {\n",
       "        vertical-align: top;\n",
       "    }\n",
       "\n",
       "    .dataframe thead th {\n",
       "        text-align: right;\n",
       "    }\n",
       "</style>\n",
       "<table border=\"1\" class=\"dataframe\">\n",
       "  <thead>\n",
       "    <tr style=\"text-align: right;\">\n",
       "      <th></th>\n",
       "      <th>date</th>\n",
       "      <th>outbreak_group</th>\n",
       "      <th>outbreak_subgroup</th>\n",
       "      <th>number_ongoing_outbreaks</th>\n",
       "    </tr>\n",
       "  </thead>\n",
       "  <tbody>\n",
       "    <tr>\n",
       "      <th>0</th>\n",
       "      <td>2020-11-01</td>\n",
       "      <td>1 Congregate Care</td>\n",
       "      <td>1 Long-Term Care Homes</td>\n",
       "      <td>73</td>\n",
       "    </tr>\n",
       "    <tr>\n",
       "      <th>1</th>\n",
       "      <td>2020-11-01</td>\n",
       "      <td>1 Congregate Care</td>\n",
       "      <td>2 Hospitals</td>\n",
       "      <td>21</td>\n",
       "    </tr>\n",
       "    <tr>\n",
       "      <th>2</th>\n",
       "      <td>2020-11-01</td>\n",
       "      <td>1 Congregate Care</td>\n",
       "      <td>3 Retirement Homes</td>\n",
       "      <td>51</td>\n",
       "    </tr>\n",
       "    <tr>\n",
       "      <th>22</th>\n",
       "      <td>2020-11-02</td>\n",
       "      <td>1 Congregate Care</td>\n",
       "      <td>1 Long-Term Care Homes</td>\n",
       "      <td>74</td>\n",
       "    </tr>\n",
       "    <tr>\n",
       "      <th>23</th>\n",
       "      <td>2020-11-02</td>\n",
       "      <td>1 Congregate Care</td>\n",
       "      <td>2 Hospitals</td>\n",
       "      <td>19</td>\n",
       "    </tr>\n",
       "    <tr>\n",
       "      <th>...</th>\n",
       "      <td>...</td>\n",
       "      <td>...</td>\n",
       "      <td>...</td>\n",
       "      <td>...</td>\n",
       "    </tr>\n",
       "    <tr>\n",
       "      <th>8858</th>\n",
       "      <td>2021-12-04</td>\n",
       "      <td>1 Congregate Care</td>\n",
       "      <td>2 Hospitals</td>\n",
       "      <td>6</td>\n",
       "    </tr>\n",
       "    <tr>\n",
       "      <th>8859</th>\n",
       "      <td>2021-12-04</td>\n",
       "      <td>1 Congregate Care</td>\n",
       "      <td>3 Retirement Homes</td>\n",
       "      <td>8</td>\n",
       "    </tr>\n",
       "    <tr>\n",
       "      <th>8879</th>\n",
       "      <td>2021-12-05</td>\n",
       "      <td>1 Congregate Care</td>\n",
       "      <td>1 Long-Term Care Homes</td>\n",
       "      <td>7</td>\n",
       "    </tr>\n",
       "    <tr>\n",
       "      <th>8880</th>\n",
       "      <td>2021-12-05</td>\n",
       "      <td>1 Congregate Care</td>\n",
       "      <td>2 Hospitals</td>\n",
       "      <td>7</td>\n",
       "    </tr>\n",
       "    <tr>\n",
       "      <th>8881</th>\n",
       "      <td>2021-12-05</td>\n",
       "      <td>1 Congregate Care</td>\n",
       "      <td>3 Retirement Homes</td>\n",
       "      <td>7</td>\n",
       "    </tr>\n",
       "  </tbody>\n",
       "</table>\n",
       "<p>1179 rows × 4 columns</p>\n",
       "</div>"
      ],
      "text/plain": [
       "            date     outbreak_group       outbreak_subgroup  \\\n",
       "0     2020-11-01  1 Congregate Care  1 Long-Term Care Homes   \n",
       "1     2020-11-01  1 Congregate Care             2 Hospitals   \n",
       "2     2020-11-01  1 Congregate Care      3 Retirement Homes   \n",
       "22    2020-11-02  1 Congregate Care  1 Long-Term Care Homes   \n",
       "23    2020-11-02  1 Congregate Care             2 Hospitals   \n",
       "...          ...                ...                     ...   \n",
       "8858  2021-12-04  1 Congregate Care             2 Hospitals   \n",
       "8859  2021-12-04  1 Congregate Care      3 Retirement Homes   \n",
       "8879  2021-12-05  1 Congregate Care  1 Long-Term Care Homes   \n",
       "8880  2021-12-05  1 Congregate Care             2 Hospitals   \n",
       "8881  2021-12-05  1 Congregate Care      3 Retirement Homes   \n",
       "\n",
       "      number_ongoing_outbreaks  \n",
       "0                           73  \n",
       "1                           21  \n",
       "2                           51  \n",
       "22                          74  \n",
       "23                          19  \n",
       "...                        ...  \n",
       "8858                         6  \n",
       "8859                         8  \n",
       "8879                         7  \n",
       "8880                         7  \n",
       "8881                         7  \n",
       "\n",
       "[1179 rows x 4 columns]"
      ]
     },
     "execution_count": 857,
     "metadata": {},
     "output_type": "execute_result"
    }
   ],
   "source": [
    "GROUP1"
   ]
  },
  {
   "cell_type": "code",
   "execution_count": 858,
   "id": "b3eefba5",
   "metadata": {},
   "outputs": [
    {
     "data": {
      "text/plain": [
       "(1179, 4)"
      ]
     },
     "execution_count": 858,
     "metadata": {},
     "output_type": "execute_result"
    }
   ],
   "source": [
    "GROUP1.shape"
   ]
  },
  {
   "cell_type": "code",
   "execution_count": 859,
   "id": "de6ab687",
   "metadata": {},
   "outputs": [],
   "source": [
    "#GROUP2\n",
    "GROUP2=data[data[\"outbreak_group\"] == '2 Congregate Living']"
   ]
  },
  {
   "cell_type": "code",
   "execution_count": 860,
   "id": "d1ca450f",
   "metadata": {},
   "outputs": [
    {
     "data": {
      "text/html": [
       "<div>\n",
       "<style scoped>\n",
       "    .dataframe tbody tr th:only-of-type {\n",
       "        vertical-align: middle;\n",
       "    }\n",
       "\n",
       "    .dataframe tbody tr th {\n",
       "        vertical-align: top;\n",
       "    }\n",
       "\n",
       "    .dataframe thead th {\n",
       "        text-align: right;\n",
       "    }\n",
       "</style>\n",
       "<table border=\"1\" class=\"dataframe\">\n",
       "  <thead>\n",
       "    <tr style=\"text-align: right;\">\n",
       "      <th></th>\n",
       "      <th>date</th>\n",
       "      <th>outbreak_group</th>\n",
       "      <th>outbreak_subgroup</th>\n",
       "      <th>number_ongoing_outbreaks</th>\n",
       "    </tr>\n",
       "  </thead>\n",
       "  <tbody>\n",
       "    <tr>\n",
       "      <th>3</th>\n",
       "      <td>2020-11-01</td>\n",
       "      <td>2 Congregate Living</td>\n",
       "      <td>18 Short-term accommodations</td>\n",
       "      <td>2</td>\n",
       "    </tr>\n",
       "    <tr>\n",
       "      <th>4</th>\n",
       "      <td>2020-11-01</td>\n",
       "      <td>2 Congregate Living</td>\n",
       "      <td>4 Group Home/Supportive Housing</td>\n",
       "      <td>31</td>\n",
       "    </tr>\n",
       "    <tr>\n",
       "      <th>5</th>\n",
       "      <td>2020-11-01</td>\n",
       "      <td>2 Congregate Living</td>\n",
       "      <td>5 Correctional Facility</td>\n",
       "      <td>4</td>\n",
       "    </tr>\n",
       "    <tr>\n",
       "      <th>6</th>\n",
       "      <td>2020-11-01</td>\n",
       "      <td>2 Congregate Living</td>\n",
       "      <td>6 Shelter</td>\n",
       "      <td>9</td>\n",
       "    </tr>\n",
       "    <tr>\n",
       "      <th>25</th>\n",
       "      <td>2020-11-02</td>\n",
       "      <td>2 Congregate Living</td>\n",
       "      <td>18 Short-term accommodations</td>\n",
       "      <td>2</td>\n",
       "    </tr>\n",
       "    <tr>\n",
       "      <th>...</th>\n",
       "      <td>...</td>\n",
       "      <td>...</td>\n",
       "      <td>...</td>\n",
       "      <td>...</td>\n",
       "    </tr>\n",
       "    <tr>\n",
       "      <th>8882</th>\n",
       "      <td>2021-12-05</td>\n",
       "      <td>2 Congregate Living</td>\n",
       "      <td>18 Short-term accommodations</td>\n",
       "      <td>1</td>\n",
       "    </tr>\n",
       "    <tr>\n",
       "      <th>8883</th>\n",
       "      <td>2021-12-05</td>\n",
       "      <td>2 Congregate Living</td>\n",
       "      <td>22 Congregate other</td>\n",
       "      <td>3</td>\n",
       "    </tr>\n",
       "    <tr>\n",
       "      <th>8884</th>\n",
       "      <td>2021-12-05</td>\n",
       "      <td>2 Congregate Living</td>\n",
       "      <td>4 Group Home/Supportive Housing</td>\n",
       "      <td>9</td>\n",
       "    </tr>\n",
       "    <tr>\n",
       "      <th>8885</th>\n",
       "      <td>2021-12-05</td>\n",
       "      <td>2 Congregate Living</td>\n",
       "      <td>5 Correctional Facility</td>\n",
       "      <td>4</td>\n",
       "    </tr>\n",
       "    <tr>\n",
       "      <th>8886</th>\n",
       "      <td>2021-12-05</td>\n",
       "      <td>2 Congregate Living</td>\n",
       "      <td>6 Shelter</td>\n",
       "      <td>6</td>\n",
       "    </tr>\n",
       "  </tbody>\n",
       "</table>\n",
       "<p>1815 rows × 4 columns</p>\n",
       "</div>"
      ],
      "text/plain": [
       "            date       outbreak_group                outbreak_subgroup  \\\n",
       "3     2020-11-01  2 Congregate Living     18 Short-term accommodations   \n",
       "4     2020-11-01  2 Congregate Living  4 Group Home/Supportive Housing   \n",
       "5     2020-11-01  2 Congregate Living          5 Correctional Facility   \n",
       "6     2020-11-01  2 Congregate Living                        6 Shelter   \n",
       "25    2020-11-02  2 Congregate Living     18 Short-term accommodations   \n",
       "...          ...                  ...                              ...   \n",
       "8882  2021-12-05  2 Congregate Living     18 Short-term accommodations   \n",
       "8883  2021-12-05  2 Congregate Living              22 Congregate other   \n",
       "8884  2021-12-05  2 Congregate Living  4 Group Home/Supportive Housing   \n",
       "8885  2021-12-05  2 Congregate Living          5 Correctional Facility   \n",
       "8886  2021-12-05  2 Congregate Living                        6 Shelter   \n",
       "\n",
       "      number_ongoing_outbreaks  \n",
       "3                            2  \n",
       "4                           31  \n",
       "5                            4  \n",
       "6                            9  \n",
       "25                           2  \n",
       "...                        ...  \n",
       "8882                         1  \n",
       "8883                         3  \n",
       "8884                         9  \n",
       "8885                         4  \n",
       "8886                         6  \n",
       "\n",
       "[1815 rows x 4 columns]"
      ]
     },
     "execution_count": 860,
     "metadata": {},
     "output_type": "execute_result"
    }
   ],
   "source": [
    "GROUP2"
   ]
  },
  {
   "cell_type": "code",
   "execution_count": 861,
   "id": "90666fb4",
   "metadata": {},
   "outputs": [
    {
     "data": {
      "text/plain": [
       "(1815, 4)"
      ]
     },
     "execution_count": 861,
     "metadata": {},
     "output_type": "execute_result"
    }
   ],
   "source": [
    "GROUP2.shape"
   ]
  },
  {
   "cell_type": "code",
   "execution_count": 862,
   "id": "2bb5eb5a",
   "metadata": {},
   "outputs": [],
   "source": [
    "#GROUP3\n",
    "GROUP3=data[data[\"outbreak_group\"] == '3 Education']"
   ]
  },
  {
   "cell_type": "code",
   "execution_count": 863,
   "id": "a4ec73ea",
   "metadata": {},
   "outputs": [
    {
     "data": {
      "text/html": [
       "<div>\n",
       "<style scoped>\n",
       "    .dataframe tbody tr th:only-of-type {\n",
       "        vertical-align: middle;\n",
       "    }\n",
       "\n",
       "    .dataframe tbody tr th {\n",
       "        vertical-align: top;\n",
       "    }\n",
       "\n",
       "    .dataframe thead th {\n",
       "        text-align: right;\n",
       "    }\n",
       "</style>\n",
       "<table border=\"1\" class=\"dataframe\">\n",
       "  <thead>\n",
       "    <tr style=\"text-align: right;\">\n",
       "      <th></th>\n",
       "      <th>date</th>\n",
       "      <th>outbreak_group</th>\n",
       "      <th>outbreak_subgroup</th>\n",
       "      <th>number_ongoing_outbreaks</th>\n",
       "    </tr>\n",
       "  </thead>\n",
       "  <tbody>\n",
       "    <tr>\n",
       "      <th>7</th>\n",
       "      <td>2020-11-01</td>\n",
       "      <td>3 Education</td>\n",
       "      <td>10 School - Post-Secondary</td>\n",
       "      <td>2</td>\n",
       "    </tr>\n",
       "    <tr>\n",
       "      <th>8</th>\n",
       "      <td>2020-11-01</td>\n",
       "      <td>3 Education</td>\n",
       "      <td>11 Child care</td>\n",
       "      <td>39</td>\n",
       "    </tr>\n",
       "    <tr>\n",
       "      <th>9</th>\n",
       "      <td>2020-11-01</td>\n",
       "      <td>3 Education</td>\n",
       "      <td>7 School - Elementary</td>\n",
       "      <td>29</td>\n",
       "    </tr>\n",
       "    <tr>\n",
       "      <th>10</th>\n",
       "      <td>2020-11-01</td>\n",
       "      <td>3 Education</td>\n",
       "      <td>8 School - Secondary</td>\n",
       "      <td>7</td>\n",
       "    </tr>\n",
       "    <tr>\n",
       "      <th>11</th>\n",
       "      <td>2020-11-01</td>\n",
       "      <td>3 Education</td>\n",
       "      <td>9 School - Elementary/Secondary</td>\n",
       "      <td>7</td>\n",
       "    </tr>\n",
       "    <tr>\n",
       "      <th>...</th>\n",
       "      <td>...</td>\n",
       "      <td>...</td>\n",
       "      <td>...</td>\n",
       "      <td>...</td>\n",
       "    </tr>\n",
       "    <tr>\n",
       "      <th>8887</th>\n",
       "      <td>2021-12-05</td>\n",
       "      <td>3 Education</td>\n",
       "      <td>10 School - Post-Secondary</td>\n",
       "      <td>1</td>\n",
       "    </tr>\n",
       "    <tr>\n",
       "      <th>8888</th>\n",
       "      <td>2021-12-05</td>\n",
       "      <td>3 Education</td>\n",
       "      <td>11 Child care</td>\n",
       "      <td>31</td>\n",
       "    </tr>\n",
       "    <tr>\n",
       "      <th>8889</th>\n",
       "      <td>2021-12-05</td>\n",
       "      <td>3 Education</td>\n",
       "      <td>7 School - Elementary</td>\n",
       "      <td>204</td>\n",
       "    </tr>\n",
       "    <tr>\n",
       "      <th>8890</th>\n",
       "      <td>2021-12-05</td>\n",
       "      <td>3 Education</td>\n",
       "      <td>8 School - Secondary</td>\n",
       "      <td>12</td>\n",
       "    </tr>\n",
       "    <tr>\n",
       "      <th>8891</th>\n",
       "      <td>2021-12-05</td>\n",
       "      <td>3 Education</td>\n",
       "      <td>9 School - Elementary/Secondary</td>\n",
       "      <td>4</td>\n",
       "    </tr>\n",
       "  </tbody>\n",
       "</table>\n",
       "<p>1792 rows × 4 columns</p>\n",
       "</div>"
      ],
      "text/plain": [
       "            date outbreak_group                outbreak_subgroup  \\\n",
       "7     2020-11-01    3 Education       10 School - Post-Secondary   \n",
       "8     2020-11-01    3 Education                    11 Child care   \n",
       "9     2020-11-01    3 Education            7 School - Elementary   \n",
       "10    2020-11-01    3 Education             8 School - Secondary   \n",
       "11    2020-11-01    3 Education  9 School - Elementary/Secondary   \n",
       "...          ...            ...                              ...   \n",
       "8887  2021-12-05    3 Education       10 School - Post-Secondary   \n",
       "8888  2021-12-05    3 Education                    11 Child care   \n",
       "8889  2021-12-05    3 Education            7 School - Elementary   \n",
       "8890  2021-12-05    3 Education             8 School - Secondary   \n",
       "8891  2021-12-05    3 Education  9 School - Elementary/Secondary   \n",
       "\n",
       "      number_ongoing_outbreaks  \n",
       "7                            2  \n",
       "8                           39  \n",
       "9                           29  \n",
       "10                           7  \n",
       "11                           7  \n",
       "...                        ...  \n",
       "8887                         1  \n",
       "8888                        31  \n",
       "8889                       204  \n",
       "8890                        12  \n",
       "8891                         4  \n",
       "\n",
       "[1792 rows x 4 columns]"
      ]
     },
     "execution_count": 863,
     "metadata": {},
     "output_type": "execute_result"
    }
   ],
   "source": [
    "GROUP3"
   ]
  },
  {
   "cell_type": "code",
   "execution_count": 864,
   "id": "85ca607f",
   "metadata": {},
   "outputs": [
    {
     "data": {
      "text/plain": [
       "(1792, 4)"
      ]
     },
     "execution_count": 864,
     "metadata": {},
     "output_type": "execute_result"
    }
   ],
   "source": [
    "GROUP3.shape"
   ]
  },
  {
   "cell_type": "code",
   "execution_count": 865,
   "id": "5cee0849",
   "metadata": {},
   "outputs": [],
   "source": [
    "#GROUP4\n",
    "GROUP4=data[data[\"outbreak_group\"] == '4 Workplace']"
   ]
  },
  {
   "cell_type": "code",
   "execution_count": 866,
   "id": "34a5b1dd",
   "metadata": {},
   "outputs": [
    {
     "data": {
      "text/html": [
       "<div>\n",
       "<style scoped>\n",
       "    .dataframe tbody tr th:only-of-type {\n",
       "        vertical-align: middle;\n",
       "    }\n",
       "\n",
       "    .dataframe tbody tr th {\n",
       "        vertical-align: top;\n",
       "    }\n",
       "\n",
       "    .dataframe thead th {\n",
       "        text-align: right;\n",
       "    }\n",
       "</style>\n",
       "<table border=\"1\" class=\"dataframe\">\n",
       "  <thead>\n",
       "    <tr style=\"text-align: right;\">\n",
       "      <th></th>\n",
       "      <th>date</th>\n",
       "      <th>outbreak_group</th>\n",
       "      <th>outbreak_subgroup</th>\n",
       "      <th>number_ongoing_outbreaks</th>\n",
       "    </tr>\n",
       "  </thead>\n",
       "  <tbody>\n",
       "    <tr>\n",
       "      <th>12</th>\n",
       "      <td>2020-11-01</td>\n",
       "      <td>4 Workplace</td>\n",
       "      <td>12 Workplace - Farm</td>\n",
       "      <td>2</td>\n",
       "    </tr>\n",
       "    <tr>\n",
       "      <th>13</th>\n",
       "      <td>2020-11-01</td>\n",
       "      <td>4 Workplace</td>\n",
       "      <td>13 Workplace - Food Processing</td>\n",
       "      <td>11</td>\n",
       "    </tr>\n",
       "    <tr>\n",
       "      <th>14</th>\n",
       "      <td>2020-11-01</td>\n",
       "      <td>4 Workplace</td>\n",
       "      <td>14 Workplace - Other</td>\n",
       "      <td>120</td>\n",
       "    </tr>\n",
       "    <tr>\n",
       "      <th>15</th>\n",
       "      <td>2020-11-01</td>\n",
       "      <td>4 Workplace</td>\n",
       "      <td>15 Retail</td>\n",
       "      <td>1</td>\n",
       "    </tr>\n",
       "    <tr>\n",
       "      <th>16</th>\n",
       "      <td>2020-11-01</td>\n",
       "      <td>4 Workplace</td>\n",
       "      <td>16 Medical/Health Service</td>\n",
       "      <td>3</td>\n",
       "    </tr>\n",
       "    <tr>\n",
       "      <th>...</th>\n",
       "      <td>...</td>\n",
       "      <td>...</td>\n",
       "      <td>...</td>\n",
       "      <td>...</td>\n",
       "    </tr>\n",
       "    <tr>\n",
       "      <th>8873</th>\n",
       "      <td>2021-12-04</td>\n",
       "      <td>4 Workplace</td>\n",
       "      <td>16 Medical/Health Service</td>\n",
       "      <td>6</td>\n",
       "    </tr>\n",
       "    <tr>\n",
       "      <th>8892</th>\n",
       "      <td>2021-12-05</td>\n",
       "      <td>4 Workplace</td>\n",
       "      <td>13 Workplace - Food Processing</td>\n",
       "      <td>3</td>\n",
       "    </tr>\n",
       "    <tr>\n",
       "      <th>8893</th>\n",
       "      <td>2021-12-05</td>\n",
       "      <td>4 Workplace</td>\n",
       "      <td>14 Workplace - Other</td>\n",
       "      <td>63</td>\n",
       "    </tr>\n",
       "    <tr>\n",
       "      <th>8894</th>\n",
       "      <td>2021-12-05</td>\n",
       "      <td>4 Workplace</td>\n",
       "      <td>15 Retail</td>\n",
       "      <td>11</td>\n",
       "    </tr>\n",
       "    <tr>\n",
       "      <th>8895</th>\n",
       "      <td>2021-12-05</td>\n",
       "      <td>4 Workplace</td>\n",
       "      <td>16 Medical/Health Service</td>\n",
       "      <td>6</td>\n",
       "    </tr>\n",
       "  </tbody>\n",
       "</table>\n",
       "<p>1929 rows × 4 columns</p>\n",
       "</div>"
      ],
      "text/plain": [
       "            date outbreak_group               outbreak_subgroup  \\\n",
       "12    2020-11-01    4 Workplace             12 Workplace - Farm   \n",
       "13    2020-11-01    4 Workplace  13 Workplace - Food Processing   \n",
       "14    2020-11-01    4 Workplace            14 Workplace - Other   \n",
       "15    2020-11-01    4 Workplace                       15 Retail   \n",
       "16    2020-11-01    4 Workplace       16 Medical/Health Service   \n",
       "...          ...            ...                             ...   \n",
       "8873  2021-12-04    4 Workplace       16 Medical/Health Service   \n",
       "8892  2021-12-05    4 Workplace  13 Workplace - Food Processing   \n",
       "8893  2021-12-05    4 Workplace            14 Workplace - Other   \n",
       "8894  2021-12-05    4 Workplace                       15 Retail   \n",
       "8895  2021-12-05    4 Workplace       16 Medical/Health Service   \n",
       "\n",
       "      number_ongoing_outbreaks  \n",
       "12                           2  \n",
       "13                          11  \n",
       "14                         120  \n",
       "15                           1  \n",
       "16                           3  \n",
       "...                        ...  \n",
       "8873                         6  \n",
       "8892                         3  \n",
       "8893                        63  \n",
       "8894                        11  \n",
       "8895                         6  \n",
       "\n",
       "[1929 rows x 4 columns]"
      ]
     },
     "execution_count": 866,
     "metadata": {},
     "output_type": "execute_result"
    }
   ],
   "source": [
    "GROUP4"
   ]
  },
  {
   "cell_type": "code",
   "execution_count": 867,
   "id": "803e1802",
   "metadata": {},
   "outputs": [
    {
     "data": {
      "text/plain": [
       "(1929, 4)"
      ]
     },
     "execution_count": 867,
     "metadata": {},
     "output_type": "execute_result"
    }
   ],
   "source": [
    "GROUP4.shape"
   ]
  },
  {
   "cell_type": "code",
   "execution_count": 868,
   "id": "8f25532f",
   "metadata": {},
   "outputs": [],
   "source": [
    "#GROUP5\n",
    "GROUP5=data[data[\"outbreak_group\"] == '5 Recreational']"
   ]
  },
  {
   "cell_type": "code",
   "execution_count": 869,
   "id": "5eb19825",
   "metadata": {},
   "outputs": [
    {
     "data": {
      "text/html": [
       "<div>\n",
       "<style scoped>\n",
       "    .dataframe tbody tr th:only-of-type {\n",
       "        vertical-align: middle;\n",
       "    }\n",
       "\n",
       "    .dataframe tbody tr th {\n",
       "        vertical-align: top;\n",
       "    }\n",
       "\n",
       "    .dataframe thead th {\n",
       "        text-align: right;\n",
       "    }\n",
       "</style>\n",
       "<table border=\"1\" class=\"dataframe\">\n",
       "  <thead>\n",
       "    <tr style=\"text-align: right;\">\n",
       "      <th></th>\n",
       "      <th>date</th>\n",
       "      <th>outbreak_group</th>\n",
       "      <th>outbreak_subgroup</th>\n",
       "      <th>number_ongoing_outbreaks</th>\n",
       "    </tr>\n",
       "  </thead>\n",
       "  <tbody>\n",
       "    <tr>\n",
       "      <th>17</th>\n",
       "      <td>2020-11-01</td>\n",
       "      <td>5 Recreational</td>\n",
       "      <td>17 Bar/restaurant/nightclub</td>\n",
       "      <td>11</td>\n",
       "    </tr>\n",
       "    <tr>\n",
       "      <th>18</th>\n",
       "      <td>2020-11-01</td>\n",
       "      <td>5 Recreational</td>\n",
       "      <td>19 Recreational fitness</td>\n",
       "      <td>5</td>\n",
       "    </tr>\n",
       "    <tr>\n",
       "      <th>19</th>\n",
       "      <td>2020-11-01</td>\n",
       "      <td>5 Recreational</td>\n",
       "      <td>21 Other recreation</td>\n",
       "      <td>6</td>\n",
       "    </tr>\n",
       "    <tr>\n",
       "      <th>39</th>\n",
       "      <td>2020-11-02</td>\n",
       "      <td>5 Recreational</td>\n",
       "      <td>17 Bar/restaurant/nightclub</td>\n",
       "      <td>12</td>\n",
       "    </tr>\n",
       "    <tr>\n",
       "      <th>40</th>\n",
       "      <td>2020-11-02</td>\n",
       "      <td>5 Recreational</td>\n",
       "      <td>19 Recreational fitness</td>\n",
       "      <td>5</td>\n",
       "    </tr>\n",
       "    <tr>\n",
       "      <th>...</th>\n",
       "      <td>...</td>\n",
       "      <td>...</td>\n",
       "      <td>...</td>\n",
       "      <td>...</td>\n",
       "    </tr>\n",
       "    <tr>\n",
       "      <th>8875</th>\n",
       "      <td>2021-12-04</td>\n",
       "      <td>5 Recreational</td>\n",
       "      <td>19 Recreational fitness</td>\n",
       "      <td>13</td>\n",
       "    </tr>\n",
       "    <tr>\n",
       "      <th>8876</th>\n",
       "      <td>2021-12-04</td>\n",
       "      <td>5 Recreational</td>\n",
       "      <td>21 Other recreation</td>\n",
       "      <td>9</td>\n",
       "    </tr>\n",
       "    <tr>\n",
       "      <th>8896</th>\n",
       "      <td>2021-12-05</td>\n",
       "      <td>5 Recreational</td>\n",
       "      <td>17 Bar/restaurant/nightclub</td>\n",
       "      <td>12</td>\n",
       "    </tr>\n",
       "    <tr>\n",
       "      <th>8897</th>\n",
       "      <td>2021-12-05</td>\n",
       "      <td>5 Recreational</td>\n",
       "      <td>19 Recreational fitness</td>\n",
       "      <td>14</td>\n",
       "    </tr>\n",
       "    <tr>\n",
       "      <th>8898</th>\n",
       "      <td>2021-12-05</td>\n",
       "      <td>5 Recreational</td>\n",
       "      <td>21 Other recreation</td>\n",
       "      <td>10</td>\n",
       "    </tr>\n",
       "  </tbody>\n",
       "</table>\n",
       "<p>1363 rows × 4 columns</p>\n",
       "</div>"
      ],
      "text/plain": [
       "            date  outbreak_group            outbreak_subgroup  \\\n",
       "17    2020-11-01  5 Recreational  17 Bar/restaurant/nightclub   \n",
       "18    2020-11-01  5 Recreational      19 Recreational fitness   \n",
       "19    2020-11-01  5 Recreational          21 Other recreation   \n",
       "39    2020-11-02  5 Recreational  17 Bar/restaurant/nightclub   \n",
       "40    2020-11-02  5 Recreational      19 Recreational fitness   \n",
       "...          ...             ...                          ...   \n",
       "8875  2021-12-04  5 Recreational      19 Recreational fitness   \n",
       "8876  2021-12-04  5 Recreational          21 Other recreation   \n",
       "8896  2021-12-05  5 Recreational  17 Bar/restaurant/nightclub   \n",
       "8897  2021-12-05  5 Recreational      19 Recreational fitness   \n",
       "8898  2021-12-05  5 Recreational          21 Other recreation   \n",
       "\n",
       "      number_ongoing_outbreaks  \n",
       "17                          11  \n",
       "18                           5  \n",
       "19                           6  \n",
       "39                          12  \n",
       "40                           5  \n",
       "...                        ...  \n",
       "8875                        13  \n",
       "8876                         9  \n",
       "8896                        12  \n",
       "8897                        14  \n",
       "8898                        10  \n",
       "\n",
       "[1363 rows x 4 columns]"
      ]
     },
     "execution_count": 869,
     "metadata": {},
     "output_type": "execute_result"
    }
   ],
   "source": [
    "GROUP5"
   ]
  },
  {
   "cell_type": "code",
   "execution_count": 870,
   "id": "a3b1af70",
   "metadata": {},
   "outputs": [
    {
     "data": {
      "text/plain": [
       "(1363, 4)"
      ]
     },
     "execution_count": 870,
     "metadata": {},
     "output_type": "execute_result"
    }
   ],
   "source": [
    "GROUP5.shape"
   ]
  },
  {
   "cell_type": "code",
   "execution_count": 871,
   "id": "e946772f",
   "metadata": {},
   "outputs": [],
   "source": [
    "#GROUP6\n",
    "GROUP6=data[data[\"outbreak_group\"] == '6 Other/Unknown']"
   ]
  },
  {
   "cell_type": "code",
   "execution_count": 872,
   "id": "dc28e41a",
   "metadata": {},
   "outputs": [
    {
     "data": {
      "text/html": [
       "<div>\n",
       "<style scoped>\n",
       "    .dataframe tbody tr th:only-of-type {\n",
       "        vertical-align: middle;\n",
       "    }\n",
       "\n",
       "    .dataframe tbody tr th {\n",
       "        vertical-align: top;\n",
       "    }\n",
       "\n",
       "    .dataframe thead th {\n",
       "        text-align: right;\n",
       "    }\n",
       "</style>\n",
       "<table border=\"1\" class=\"dataframe\">\n",
       "  <thead>\n",
       "    <tr style=\"text-align: right;\">\n",
       "      <th></th>\n",
       "      <th>date</th>\n",
       "      <th>outbreak_group</th>\n",
       "      <th>outbreak_subgroup</th>\n",
       "      <th>number_ongoing_outbreaks</th>\n",
       "    </tr>\n",
       "  </thead>\n",
       "  <tbody>\n",
       "    <tr>\n",
       "      <th>20</th>\n",
       "      <td>2020-11-01</td>\n",
       "      <td>6 Other/Unknown</td>\n",
       "      <td>23 Other</td>\n",
       "      <td>20</td>\n",
       "    </tr>\n",
       "    <tr>\n",
       "      <th>21</th>\n",
       "      <td>2020-11-01</td>\n",
       "      <td>6 Other/Unknown</td>\n",
       "      <td>24 Unknown</td>\n",
       "      <td>7</td>\n",
       "    </tr>\n",
       "    <tr>\n",
       "      <th>42</th>\n",
       "      <td>2020-11-02</td>\n",
       "      <td>6 Other/Unknown</td>\n",
       "      <td>23 Other</td>\n",
       "      <td>23</td>\n",
       "    </tr>\n",
       "    <tr>\n",
       "      <th>43</th>\n",
       "      <td>2020-11-02</td>\n",
       "      <td>6 Other/Unknown</td>\n",
       "      <td>24 Unknown</td>\n",
       "      <td>8</td>\n",
       "    </tr>\n",
       "    <tr>\n",
       "      <th>65</th>\n",
       "      <td>2020-11-03</td>\n",
       "      <td>6 Other/Unknown</td>\n",
       "      <td>23 Other</td>\n",
       "      <td>18</td>\n",
       "    </tr>\n",
       "    <tr>\n",
       "      <th>...</th>\n",
       "      <td>...</td>\n",
       "      <td>...</td>\n",
       "      <td>...</td>\n",
       "      <td>...</td>\n",
       "    </tr>\n",
       "    <tr>\n",
       "      <th>8856</th>\n",
       "      <td>2021-12-03</td>\n",
       "      <td>6 Other/Unknown</td>\n",
       "      <td>24 Unknown</td>\n",
       "      <td>35</td>\n",
       "    </tr>\n",
       "    <tr>\n",
       "      <th>8877</th>\n",
       "      <td>2021-12-04</td>\n",
       "      <td>6 Other/Unknown</td>\n",
       "      <td>23 Other</td>\n",
       "      <td>9</td>\n",
       "    </tr>\n",
       "    <tr>\n",
       "      <th>8878</th>\n",
       "      <td>2021-12-04</td>\n",
       "      <td>6 Other/Unknown</td>\n",
       "      <td>24 Unknown</td>\n",
       "      <td>33</td>\n",
       "    </tr>\n",
       "    <tr>\n",
       "      <th>8899</th>\n",
       "      <td>2021-12-05</td>\n",
       "      <td>6 Other/Unknown</td>\n",
       "      <td>23 Other</td>\n",
       "      <td>8</td>\n",
       "    </tr>\n",
       "    <tr>\n",
       "      <th>8900</th>\n",
       "      <td>2021-12-05</td>\n",
       "      <td>6 Other/Unknown</td>\n",
       "      <td>24 Unknown</td>\n",
       "      <td>38</td>\n",
       "    </tr>\n",
       "  </tbody>\n",
       "</table>\n",
       "<p>761 rows × 4 columns</p>\n",
       "</div>"
      ],
      "text/plain": [
       "            date   outbreak_group outbreak_subgroup  number_ongoing_outbreaks\n",
       "20    2020-11-01  6 Other/Unknown          23 Other                        20\n",
       "21    2020-11-01  6 Other/Unknown        24 Unknown                         7\n",
       "42    2020-11-02  6 Other/Unknown          23 Other                        23\n",
       "43    2020-11-02  6 Other/Unknown        24 Unknown                         8\n",
       "65    2020-11-03  6 Other/Unknown          23 Other                        18\n",
       "...          ...              ...               ...                       ...\n",
       "8856  2021-12-03  6 Other/Unknown        24 Unknown                        35\n",
       "8877  2021-12-04  6 Other/Unknown          23 Other                         9\n",
       "8878  2021-12-04  6 Other/Unknown        24 Unknown                        33\n",
       "8899  2021-12-05  6 Other/Unknown          23 Other                         8\n",
       "8900  2021-12-05  6 Other/Unknown        24 Unknown                        38\n",
       "\n",
       "[761 rows x 4 columns]"
      ]
     },
     "execution_count": 872,
     "metadata": {},
     "output_type": "execute_result"
    }
   ],
   "source": [
    "GROUP6"
   ]
  },
  {
   "cell_type": "code",
   "execution_count": 873,
   "id": "97ed0f30",
   "metadata": {},
   "outputs": [
    {
     "data": {
      "text/plain": [
       "(761, 4)"
      ]
     },
     "execution_count": 873,
     "metadata": {},
     "output_type": "execute_result"
    }
   ],
   "source": [
    "GROUP6.shape"
   ]
  },
  {
   "cell_type": "code",
   "execution_count": 874,
   "id": "b4ab7aa0",
   "metadata": {},
   "outputs": [],
   "source": [
    "#SUBGROUP1\n",
    "\n",
    "subgroup1 = data.loc[data[\"outbreak_group\"] == '1 Congregate Care', \"outbreak_subgroup\"]"
   ]
  },
  {
   "cell_type": "code",
   "execution_count": 875,
   "id": "2d2f37c4",
   "metadata": {},
   "outputs": [
    {
     "data": {
      "text/plain": [
       "0       1 Long-Term Care Homes\n",
       "1                  2 Hospitals\n",
       "2           3 Retirement Homes\n",
       "22      1 Long-Term Care Homes\n",
       "23                 2 Hospitals\n",
       "                 ...          \n",
       "8858               2 Hospitals\n",
       "8859        3 Retirement Homes\n",
       "8879    1 Long-Term Care Homes\n",
       "8880               2 Hospitals\n",
       "8881        3 Retirement Homes\n",
       "Name: outbreak_subgroup, Length: 1179, dtype: object"
      ]
     },
     "execution_count": 875,
     "metadata": {},
     "output_type": "execute_result"
    }
   ],
   "source": [
    "subgroup1"
   ]
  },
  {
   "cell_type": "code",
   "execution_count": 876,
   "id": "49202d82",
   "metadata": {},
   "outputs": [],
   "source": [
    "subgroup1count = data.loc[data[\"outbreak_subgroup\"] == '1 Long-Term Care Homes', \"number_ongoing_outbreaks\"]"
   ]
  },
  {
   "cell_type": "code",
   "execution_count": 877,
   "id": "8ae225d9",
   "metadata": {},
   "outputs": [
    {
     "data": {
      "text/plain": [
       "0       73\n",
       "22      74\n",
       "44      74\n",
       "67      76\n",
       "91      76\n",
       "        ..\n",
       "8790     4\n",
       "8813     5\n",
       "8835     6\n",
       "8857     6\n",
       "8879     7\n",
       "Name: number_ongoing_outbreaks, Length: 400, dtype: int64"
      ]
     },
     "execution_count": 877,
     "metadata": {},
     "output_type": "execute_result"
    }
   ],
   "source": [
    "subgroup1count"
   ]
  },
  {
   "cell_type": "code",
   "execution_count": 878,
   "id": "8430c4b8",
   "metadata": {},
   "outputs": [],
   "source": [
    "#total of 1 Congregate Care\n",
    "totalofCongregate = data.loc[data[\"outbreak_group\"] == '1 Congregate Care', \"number_ongoing_outbreaks\"]"
   ]
  },
  {
   "cell_type": "code",
   "execution_count": 879,
   "id": "a8688bd0",
   "metadata": {},
   "outputs": [
    {
     "data": {
      "text/plain": [
       "0       73\n",
       "1       21\n",
       "2       51\n",
       "22      74\n",
       "23      19\n",
       "        ..\n",
       "8858     6\n",
       "8859     8\n",
       "8879     7\n",
       "8880     7\n",
       "8881     7\n",
       "Name: number_ongoing_outbreaks, Length: 1179, dtype: int64"
      ]
     },
     "execution_count": 879,
     "metadata": {},
     "output_type": "execute_result"
    }
   ],
   "source": [
    "totalofCongregate"
   ]
  },
  {
   "cell_type": "code",
   "execution_count": 880,
   "id": "47283bca",
   "metadata": {},
   "outputs": [],
   "source": [
    "totalofCongregate=sum(totalofCongregate)"
   ]
  },
  {
   "cell_type": "code",
   "execution_count": 881,
   "id": "a8188102",
   "metadata": {},
   "outputs": [
    {
     "data": {
      "text/plain": [
       "51998"
      ]
     },
     "execution_count": 881,
     "metadata": {},
     "output_type": "execute_result"
    }
   ],
   "source": [
    "totalofCongregate"
   ]
  },
  {
   "cell_type": "code",
   "execution_count": 882,
   "id": "5e8ce0b0",
   "metadata": {},
   "outputs": [],
   "source": [
    "#total of 2 Congregate Living\n",
    "totalof2_Congregate_Living = data.loc[data[\"outbreak_group\"] == '2 Congregate Living', \"number_ongoing_outbreaks\"]"
   ]
  },
  {
   "cell_type": "code",
   "execution_count": 883,
   "id": "387045fd",
   "metadata": {},
   "outputs": [],
   "source": [
    "totalof2_Congregate_Living=sum(totalof2_Congregate_Living)"
   ]
  },
  {
   "cell_type": "code",
   "execution_count": 884,
   "id": "04c76936",
   "metadata": {},
   "outputs": [
    {
     "data": {
      "text/plain": [
       "22784"
      ]
     },
     "execution_count": 884,
     "metadata": {},
     "output_type": "execute_result"
    }
   ],
   "source": [
    "totalof2_Congregate_Living"
   ]
  },
  {
   "cell_type": "code",
   "execution_count": 885,
   "id": "2e0fdef9",
   "metadata": {},
   "outputs": [],
   "source": [
    "#total of 3 Education\n",
    "totalof3_Education = data.loc[data[\"outbreak_group\"] == '3 Education', \"number_ongoing_outbreaks\"]"
   ]
  },
  {
   "cell_type": "code",
   "execution_count": 886,
   "id": "14b95bc0",
   "metadata": {},
   "outputs": [],
   "source": [
    "totalof3_Education=sum(totalof3_Education)"
   ]
  },
  {
   "cell_type": "code",
   "execution_count": 887,
   "id": "77855133",
   "metadata": {},
   "outputs": [
    {
     "data": {
      "text/plain": [
       "44293"
      ]
     },
     "execution_count": 887,
     "metadata": {},
     "output_type": "execute_result"
    }
   ],
   "source": [
    "totalof3_Education"
   ]
  },
  {
   "cell_type": "code",
   "execution_count": 888,
   "id": "8efbe3ef",
   "metadata": {},
   "outputs": [],
   "source": [
    "#total of 4 Workplace\n",
    "totalof4_Workplace = data.loc[data[\"outbreak_group\"] == '4 Workplace', \"number_ongoing_outbreaks\"]"
   ]
  },
  {
   "cell_type": "code",
   "execution_count": 889,
   "id": "841895c4",
   "metadata": {},
   "outputs": [],
   "source": [
    "totalof4_Workplace=sum(totalof4_Workplace)"
   ]
  },
  {
   "cell_type": "code",
   "execution_count": 890,
   "id": "9e8e9305",
   "metadata": {},
   "outputs": [
    {
     "data": {
      "text/plain": [
       "54143"
      ]
     },
     "execution_count": 890,
     "metadata": {},
     "output_type": "execute_result"
    }
   ],
   "source": [
    "totalof4_Workplace"
   ]
  },
  {
   "cell_type": "code",
   "execution_count": 891,
   "id": "adf88ace",
   "metadata": {},
   "outputs": [],
   "source": [
    "\n",
    "#total of 5 Recreational\n",
    "totalof5_Recreational = data.loc[data[\"outbreak_group\"] == '5 Recreational', \"number_ongoing_outbreaks\"]"
   ]
  },
  {
   "cell_type": "code",
   "execution_count": 892,
   "id": "67629f00",
   "metadata": {},
   "outputs": [],
   "source": [
    "totalof5_Recreational=sum(totalof5_Recreational)"
   ]
  },
  {
   "cell_type": "code",
   "execution_count": 893,
   "id": "74997166",
   "metadata": {},
   "outputs": [
    {
     "data": {
      "text/plain": [
       "12818"
      ]
     },
     "execution_count": 893,
     "metadata": {},
     "output_type": "execute_result"
    }
   ],
   "source": [
    "totalof5_Recreational"
   ]
  },
  {
   "cell_type": "code",
   "execution_count": 894,
   "id": "d742dd1a",
   "metadata": {},
   "outputs": [],
   "source": [
    "#total of 6 Other/Unknown\n",
    "totalof6_Other = data.loc[data[\"outbreak_group\"] == '6 Other/Unknown', \"number_ongoing_outbreaks\"]"
   ]
  },
  {
   "cell_type": "code",
   "execution_count": 895,
   "id": "426762de",
   "metadata": {},
   "outputs": [],
   "source": [
    "totalof6_Other=sum(totalof6_Other)"
   ]
  },
  {
   "cell_type": "code",
   "execution_count": 896,
   "id": "6c5fd65f",
   "metadata": {},
   "outputs": [
    {
     "data": {
      "text/plain": [
       "5800"
      ]
     },
     "execution_count": 896,
     "metadata": {},
     "output_type": "execute_result"
    }
   ],
   "source": [
    "totalof6_Other"
   ]
  },
  {
   "cell_type": "code",
   "execution_count": 897,
   "id": "62e6faec",
   "metadata": {
    "scrolled": true
   },
   "outputs": [
    {
     "data": {
      "image/png": "[encoded data removed]",
      "text/plain": [
       "<Figure size 432x288 with 1 Axes>"
      ]
     },
     "metadata": {
      "needs_background": "light"
     },
     "output_type": "display_data"
    }
   ],
   "source": [
    "plt.plot(totalofCongregate, totalof2_Congregate_Living,totalof3_Education,totalof4_Workplace,totalof5_Recreational,totalof6_Other)\n",
    "plt.show()\n"
   ]
  },
  {
   "cell_type": "code",
   "execution_count": 898,
   "id": "60b23651",
   "metadata": {},
   "outputs": [
    {
     "data": {
      "text/plain": [
       "54143"
      ]
     },
     "execution_count": 898,
     "metadata": {},
     "output_type": "execute_result"
    }
   ],
   "source": [
    "max(totalofCongregate, totalof2_Congregate_Living,totalof3_Education,totalof4_Workplace,totalof5_Recreational,totalof6_Other)"
   ]
  },
  {
   "cell_type": "code",
   "execution_count": 899,
   "id": "5710b1bd",
   "metadata": {},
   "outputs": [
    {
     "data": {
      "text/plain": [
       "5800"
      ]
     },
     "execution_count": 899,
     "metadata": {},
     "output_type": "execute_result"
    }
   ],
   "source": [
    "min(totalofCongregate, totalof2_Congregate_Living,totalof3_Education,totalof4_Workplace,totalof5_Recreational,totalof6_Other)"
   ]
  },
  {
   "cell_type": "code",
   "execution_count": null,
   "id": "00a59bd0",
   "metadata": {},
   "outputs": [],
   "source": []
  },
  {
   "cell_type": "code",
   "execution_count": null,
   "id": "91be2b62",
   "metadata": {},
   "outputs": [],
   "source": []
  },
  {
   "cell_type": "code",
   "execution_count": null,
   "id": "aeaa8c8f",
   "metadata": {},
   "outputs": [],
   "source": []
  },
  {
   "cell_type": "code",
   "execution_count": null,
   "id": "7e45a8f5",
   "metadata": {},
   "outputs": [],
   "source": []
  }
 ],
 "metadata": {
  "kernelspec": {
   "display_name": "Python 3",
   "language": "python",
   "name": "python3"
  },
  "language_info": {
   "codemirror_mode": {
    "name": "ipython",
    "version": 3
   },
   "file_extension": ".py",
   "mimetype": "text/x-python",
   "name": "python",
   "nbconvert_exporter": "python",
   "pygments_lexer": "ipython3",
   "version": "3.8.8"
  }
 },
 "nbformat": 4,
 "nbformat_minor": 5
}
